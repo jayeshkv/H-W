{
 "metadata": {
  "name": "",
  "signature": "sha256:491b1800819a4b9be837452fe1f2adc45c8e53f39b71819279be937061dbe729"
 },
 "nbformat": 3,
 "nbformat_minor": 0,
 "worksheets": [
  {
   "cells": [
    {
     "cell_type": "code",
     "collapsed": false,
     "input": [
      "import pandas as pd\n"
     ],
     "language": "python",
     "metadata": {},
     "outputs": [],
     "prompt_number": 3
    }
   ],
   "metadata": {}
  }
 ]
}