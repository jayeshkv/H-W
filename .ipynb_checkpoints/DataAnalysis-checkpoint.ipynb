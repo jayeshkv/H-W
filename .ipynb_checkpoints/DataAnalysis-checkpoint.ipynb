{
 "metadata": {
  "name": "",
  "signature": "sha256:33495d0da72aea21bbeeb2ada76193a9b99e8b90e15c26fa776f6250646ecbf0"
 },
 "nbformat": 3,
 "nbformat_minor": 0,
 "worksheets": [
  {
   "cells": [
    {
     "cell_type": "code",
     "collapsed": false,
     "input": [
      "import pandas as pd\n",
      "csv = pd.read_csv('MERGED1996_PP.csv')\n",
      "\n",
      "stateCount = csv[\"STABBR\"].value_counts()#statewise univ counts\n",
      "UgStateWise = csv.groupby(by=['STABBR'])['UGDS'].sum() #statewise UG count\n",
      "avgFacSalary_State = csv.dropna(subset=['AVGFACSAL']) #removing all the null values which is already removed by groupby\n",
      "avgFacSalary_State = avgFacSalary_State.groupby(by=['STABBR'])['AVGFACSAL'].mean() # statewise salary mean of faculty\n",
      "\n"
     ],
     "language": "python",
     "metadata": {},
     "outputs": [],
     "prompt_number": 40
    }
   ],
   "metadata": {}
  }
 ]
}