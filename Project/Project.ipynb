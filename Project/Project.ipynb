{
 "metadata": {
  "name": "",
  "signature": "sha256:65505efc810b66c69430139f056c8c95c1f913f2c8ced73f1d10610ed829d523"
 },
 "nbformat": 3,
 "nbformat_minor": 0,
 "worksheets": [
  {
   "cells": [
    {
     "cell_type": "code",
     "collapsed": false,
     "input": [
      "import base64\n",
      "import json\n",
      "import requests\n",
      "import simplejson\n",
      "from collections import OrderedDict\n",
      "from collections import defaultdict\n",
      "import sys\n",
      "import os\n",
      "\n",
      "data = '[{\"pk\":[-1],\"t\":5,\"parents\":{\"p1\":{\"pk\":[-2]},\"p2\":{\"pn\":1,\"pk\":[-1,2]}},\"ip\":\"134.88.54.224\",\"user\":\"stevenf12\"},{\"pk\":[],\"t\":20,\"parents\":{\"p1\":{\"pn\":0,\"pk\":[1]},\"p2\":{\"pk\":[-1]}},\"ip\":\"134.88.54.224\",\"user\":\"stef12\"}]'\n",
      "data = '[{\"pn\":12,\"pk\":[-6],\"t\":14,\"parents\":{\"p1\":{\"pn\":11,\"pk\":[5]},\"p2\":{\"pn\":3,\"pk\":[-5,-6]}},\"ip\":\"134.88.255.66\",\"user\":\"mcoughlin3\"},{\"pn\":13,\"pk\":[-2],\"t\":26,\"parents\":{\"p1\":{\"pn\":12,\"pk\":[-6]},\"p2\":{\"pn\":7,\"pk\":[-2,6]}},\"ip\":\"134.88.255.66\",\"user\":\"mcoughlin3\"},{\"pn\":14,\"pk\":[-1],\"t\":42,\"parents\":{\"p1\":{\"pn\":13,\"pk\":[-2]},\"p2\":{\"pn\":0,\"pk\":[-1,2]}},\"ip\":\"134.88.255.66\",\"user\":\"mcoughlin3\"},{\"pn\":15,\"pk\":[-7],\"t\":48,\"parents\":{\"p1\":{\"pn\":14,\"pk\":[-1]},\"p2\":{\"pn\":4,\"pk\":[-7,1]}},\"ip\":\"134.88.255.66\",\"user\":\"mcoughlin3\"},{\"pn\":16,\"pk\":[-10],\"t\":57,\"parents\":{\"p1\":{\"pn\":15,\"pk\":[-7]},\"p2\":{\"pn\":8,\"pk\":[-10,7]}},\"ip\":\"134.88.255.66\",\"user\":\"mcoughlin3\"},{\"pn\":17,\"pk\":[4],\"t\":66,\"parents\":{\"p1\":{\"pn\":16,\"pk\":[-10]},\"p2\":{\"pn\":5,\"pk\":[10,4]}},\"ip\":\"134.88.255.66\",\"user\":\"mcoughlin3\"},{\"pn\":18,\"pk\":[3],\"t\":84,\"parents\":{\"p1\":{\"pn\":17,\"pk\":[4]},\"p2\":{\"pn\":2,\"pk\":[-4,3]}},\"ip\":\"134.88.255.66\",\"user\":\"mcoughlin3\"},{\"pn\":19,\"pk\":[-9],\"t\":94,\"parents\":{\"p1\":{\"pn\":18,\"pk\":[3]},\"p2\":{\"pn\":9,\"pk\":[-3,-9]}},\"ip\":\"134.88.255.66\",\"user\":\"mcoughlin3\"},{\"pn\":20,\"pk\":[-8],\"t\":100,\"parents\":{\"p1\":{\"pn\":19,\"pk\":[-9]},\"p2\":{\"pn\":6,\"pk\":[-8,9]}},\"ip\":\"134.88.255.66\",\"user\":\"mcoughlin3\"},{\"pn\":21,\"pk\":[],\"t\":112,\"parents\":{\"p1\":{\"pn\":20,\"pk\":[-8]},\"p2\":{\"pn\":10,\"pk\":[8]}},\"ip\":\"134.88.255.66\",\"user\":\"mcoughlin3\"}]'\n",
      "\n",
      "datas = \"{\"+'\"'+\"root\"+'\"'+\":\"+data+\"}\"\n",
      "JSdata = json.loads(datas)\n",
      "finalDict=defaultdict(list)\n",
      "parent = JSdata[\"root\"]\n",
      "#print parent\n",
      "#print data[1]\n",
      "for item in parent:\n",
      "    #print item[\"user\"]\n",
      "    #if item[\"user\"] in finalDict:\n",
      "    #    finalDict[item[\"user\"]].append()\n",
      "    for x in range(1,3):\n",
      "        p = \"p\"+str(x) #since 2 pieces make a single piece\n",
      "        if item[\"user\"] in finalDict:\n",
      "            if 'pn' in item[\"parents\"][p]: #checking if key pn exists\n",
      "                finalDict[item[\"user\"]].append((item[\"parents\"][p][\"pn\"],item[\"parents\"][p][\"pk\"]))\n",
      "            else:\n",
      "                finalDict[item[\"user\"]].append((\"nonumber\",item[\"parents\"][p][\"pk\"]))\n",
      "        elif item[\"user\"] not in finalDict:\n",
      "            if 'pn' in item[\"parents\"][p]: #checking if key pn exists\n",
      "                finalDict[item[\"user\"]].append((item[\"parents\"][p][\"pn\"],item[\"parents\"][p][\"pk\"]))\n",
      "            else:\n",
      "                finalDict[item[\"user\"]].append((\"nonumber\",item[\"parents\"][p][\"pk\"]))\n",
      "            \n",
      "            \n",
      "         \n",
      "            #print \"number =>\", item[\"parents\"][p][\"pn\"]\n",
      "        #print \"pieces = >\" ,item[\"parents\"][p][\"pk\"]\n",
      "    #print item[]\n",
      "print finalDict\n",
      "    #print item.get()\n",
      "#for item in parent:\n",
      "#    print item[\"pn\"]\n",
      "\n"
     ],
     "language": "python",
     "metadata": {},
     "outputs": [
      {
       "output_type": "stream",
       "stream": "stdout",
       "text": [
        "defaultdict(<type 'list'>, {u'mcoughlin3': [(11, [5]), (3, [-5, -6]), (12, [-6]), (7, [-2, 6]), (13, [-2]), (0, [-1, 2]), (14, [-1]), (4, [-7, 1]), (15, [-7]), (8, [-10, 7]), (16, [-10]), (5, [10, 4]), (17, [4]), (2, [-4, 3]), (18, [3]), (9, [-3, -9]), (19, [-9]), (6, [-8, 9]), (20, [-8]), (10, [8])]})\n"
       ]
      }
     ],
     "prompt_number": 6
    }
   ],
   "metadata": {}
  }
 ]
}