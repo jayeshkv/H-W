{
 "metadata": {
  "name": "",
  "signature": "sha256:ac2923a3741f3ec189a3e0d6f622abf2afd04f78055809f687c4bde861e9e8e7"
 },
 "nbformat": 3,
 "nbformat_minor": 0,
 "worksheets": [
  {
   "cells": [
    {
     "cell_type": "code",
     "collapsed": false,
     "input": [
      "import pandas as pd\n",
      "ugStateWise = pd.DataFrame()\n",
      "csv = pd.read_csv('MERGED1996_PP.csv')\n",
      "\n",
      "stateCount = csv[\"STABBR\"].value_counts()\n",
      "UgStateWise = csv.groupby(by=['STABBR'])['UGDS'].sum()\n"
     ],
     "language": "python",
     "metadata": {},
     "outputs": [],
     "prompt_number": 9
    }
   ],
   "metadata": {}
  }
 ]
}