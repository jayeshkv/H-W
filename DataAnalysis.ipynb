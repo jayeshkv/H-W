{
 "metadata": {
  "name": "",
  "signature": "sha256:f22c91fc2e92abe3d93566adf6e710aa59635183b14189a5a2811fffc68c6de3"
 },
 "nbformat": 3,
 "nbformat_minor": 0,
 "worksheets": [
  {
   "cells": [
    {
     "cell_type": "code",
     "collapsed": false,
     "input": [
      "import pandas as pd\n",
      "csv = pd.read_csv('MERGED1996_PP.csv')\n",
      "stateCount = csv[\"STABBR\"].value_counts()\n",
      "stateCount"
     ],
     "language": "python",
     "metadata": {},
     "outputs": [
      {
       "metadata": {},
       "output_type": "pyout",
       "prompt_number": 4,
       "text": [
        "CA    656\n",
        "NY    483\n",
        "PA    433\n",
        "TX    354\n",
        "OH    315\n",
        "IL    275\n",
        "FL    270\n",
        "MI    206\n",
        "MA    197\n",
        "MO    193\n",
        "GA    163\n",
        "NC    159\n",
        "VA    157\n",
        "TN    156\n",
        "NJ    143\n",
        "LA    141\n",
        "MN    141\n",
        "IN    140\n",
        "PR    133\n",
        "KY    125\n",
        "OK    124\n",
        "WA    110\n",
        "AZ    108\n",
        "MD    102\n",
        "IA     99\n",
        "CO     99\n",
        "WI     94\n",
        "AL     92\n",
        "CT     90\n",
        "KS     86\n",
        "SC     85\n",
        "OR     85\n",
        "AR     85\n",
        "WV     69\n",
        "MS     68\n",
        "NE     58\n",
        "NM     56\n",
        "UT     48\n",
        "ME     48\n",
        "NH     40\n",
        "MT     39\n",
        "SD     32\n",
        "ND     30\n",
        "RI     29\n",
        "VT     28\n",
        "ID     27\n",
        "HI     25\n",
        "DC     24\n",
        "NV     23\n",
        "DE     13\n",
        "WY     13\n",
        "AK     12\n",
        "FM      5\n",
        "VI      2\n",
        "GU      2\n",
        "MH      1\n",
        "PW      1\n",
        "AS      1\n",
        "MP      1\n",
        "Name: STABBR, dtype: int64"
       ]
      }
     ],
     "prompt_number": 4
    }
   ],
   "metadata": {}
  }
 ]
}